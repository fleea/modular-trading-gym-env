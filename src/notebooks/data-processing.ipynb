{
 "cells": [
  {
   "cell_type": "code",
   "execution_count": 12,
   "metadata": {},
   "outputs": [
    {
     "name": "stdout",
     "output_type": "stream",
     "text": [
      "/Users/fleea/Documents/Project/Fleea/modular-trading-gym-env\n"
     ]
    }
   ],
   "source": [
    "import sys\n",
    "import os\n",
    "sys.path.append(os.path.abspath(os.path.join('..', '..')))\n",
    "print(os.path.abspath(os.path.join('..', '..')))\n",
    "from src.utils.data_cleaning import filter_noise\n",
    "from src.utils.tick_data import get_real_data_per_year\n",
    "import pandas as pd\n"
   ]
  },
  {
   "cell_type": "code",
   "execution_count": 31,
   "metadata": {},
   "outputs": [
    {
     "data": {
      "text/plain": [
       "[0, 0, 0, 0, 0, 0, 0]"
      ]
     },
     "execution_count": 31,
     "metadata": {},
     "output_type": "execute_result"
    }
   ],
   "source": [
    "[0] + [0, 0, 0] * 2"
   ]
  },
  {
   "cell_type": "code",
   "execution_count": 25,
   "metadata": {},
   "outputs": [
    {
     "name": "stdout",
     "output_type": "stream",
     "text": [
      "/Users/fleea/Documents/Project/Fleea/modular-trading-gym-env/src/data/SP_SPX_1D.csv\n",
      "             time         open         high          low        close\n",
      "0      1962-01-02    71.550003    71.959999    70.709999    70.959999\n",
      "1      1962-01-03    70.959999    71.480003    70.379997    71.129997\n",
      "2      1962-01-04    71.129997    71.620003    70.449997    70.639999\n",
      "3      1962-01-05    70.639999    70.839996    69.349998    69.660004\n",
      "4      1962-01-08    69.660004    69.839996    68.169998    69.120003\n",
      "...           ...          ...          ...          ...          ...\n",
      "15797  2024-08-19  5557.230000  5608.300000  5550.740000  5608.240000\n",
      "15798  2024-08-20  5602.880000  5620.510000  5585.500000  5597.110000\n",
      "15799  2024-08-21  5603.090000  5632.680000  5591.570000  5620.840000\n",
      "15800  2024-08-22  5637.770000  5643.220000  5560.950000  5570.650000\n",
      "15801  2024-08-23  5602.490000  5641.820000  5585.160000  5634.600000\n",
      "\n",
      "[15802 rows x 5 columns]\n"
     ]
    }
   ],
   "source": [
    "file_path = '../data/SP_SPX_1D.csv'\n",
    "print(os.path.abspath(file_path))\n",
    "df = pd.read_csv(file_path)"
   ]
  },
  {
   "cell_type": "code",
   "execution_count": 26,
   "metadata": {},
   "outputs": [
    {
     "name": "stdout",
     "output_type": "stream",
     "text": [
      "            time         open         high          low        close\n",
      "0     1962-01-02    71.550003    71.959999    70.709999    70.959999\n",
      "1     1962-01-05    70.639999    70.839996    69.349998    69.660004\n",
      "2     1962-01-17    69.070000    69.309998    68.129997    68.320000\n",
      "3     1962-04-25    68.459999    68.580002    67.529999    67.709999\n",
      "4     1962-04-27    67.050003    67.610001    65.989998    66.300003\n",
      "...          ...          ...          ...          ...          ...\n",
      "3565  2024-08-06  5206.420000  5312.340000  5193.560000  5240.040000\n",
      "3566  2024-08-08  5252.570000  5328.030000  5233.850000  5319.300000\n",
      "3567  2024-08-13  5376.980000  5436.500000  5376.980000  5434.440000\n",
      "3568  2024-08-15  5501.130000  5546.230000  5501.130000  5543.210000\n",
      "3569  2024-08-23  5602.490000  5641.820000  5585.160000  5634.600000\n",
      "\n",
      "[3570 rows x 5 columns]\n"
     ]
    }
   ],
   "source": [
    "filtered_df = filter_noise(df, 1, 'close')\n",
    "print(filtered_df)"
   ]
  }
 ],
 "metadata": {
  "kernelspec": {
   "display_name": "venv",
   "language": "python",
   "name": "python3"
  },
  "language_info": {
   "codemirror_mode": {
    "name": "ipython",
    "version": 3
   },
   "file_extension": ".py",
   "mimetype": "text/x-python",
   "name": "python",
   "nbconvert_exporter": "python",
   "pygments_lexer": "ipython3",
   "version": "3.12.4"
  }
 },
 "nbformat": 4,
 "nbformat_minor": 2
}
